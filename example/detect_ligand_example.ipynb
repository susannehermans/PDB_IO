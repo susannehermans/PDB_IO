{
 "cells": [
  {
   "cell_type": "markdown",
   "metadata": {},
   "source": [
    "# Example: Detecting ligands in PDB files"
   ]
  },
  {
   "cell_type": "code",
   "execution_count": 3,
   "metadata": {},
   "outputs": [],
   "source": [
    "%%capture\n",
    "# Installing the package\n",
    "!pip install git+https://github.com/susannehermans/PDB_IO"
   ]
  },
  {
   "cell_type": "markdown",
   "metadata": {},
   "source": [
    "## Input files\n",
    "\n",
    "**List file** that lists all pdb files: `pdbfiles.list`\n",
    "\n",
    "**PDB files**\n",
    "```\n",
    "1gm8_1gm8_clean_aligned.pdb  1mmv_5fvr_clean_aligned.pdb\n",
    "1gpk_1gqr_clean_aligned.pdb  1t40_2ikh_clean_aligned.pdb\n",
    "1hwi_1hw9_clean_aligned.pdb  2bsm_5m4h_clean_aligned.pdb\n",
    "```"
   ]
  },
  {
   "cell_type": "markdown",
   "metadata": {},
   "source": [
    "## Importing module and running code"
   ]
  },
  {
   "cell_type": "code",
   "execution_count": null,
   "metadata": {},
   "outputs": [
    {
     "name": "stdout",
     "output_type": "stream",
     "text": [
      "Processing '1gm8_1gm8_clean_aligned.pdb' ...\n",
      "Processing '1gpk_1gqr_clean_aligned.pdb' ...\n",
      "Processing '1hwi_1hw9_clean_aligned.pdb' ...\n",
      "Processing '1mmv_5fvr_clean_aligned.pdb' ...\n",
      "Processing '1t40_2ikh_clean_aligned.pdb' ...\n",
      "Processing '2bsm_5m4h_clean_aligned.pdb' ...\n",
      "\n",
      "Finished ... output was written to: output.txt\n",
      "\n"
     ]
    }
   ],
   "source": [
    "from pdb_io import main\n",
    "\n",
    "# Running the code on the example files\n",
    "main('pdbfiles.list', 'output.txt')"
   ]
  },
  {
   "cell_type": "markdown",
   "metadata": {},
   "source": [
    "## Look at output"
   ]
  },
  {
   "cell_type": "code",
   "execution_count": null,
   "metadata": {},
   "outputs": [
    {
     "name": "stdout",
     "output_type": "stream",
     "text": [
      "1gm8_1gm8_clean_aligned.pdb\t\tSOX - 1559\n",
      "1gpk_1gqr_clean_aligned.pdb\t\tEMM - 1999\t\tSAF - 1998\n",
      "1hwi_1hw9_clean_aligned.pdb\t\tSIM - 3\n",
      "1mmv_5fvr_clean_aligned.pdb\t\tHEM - 750\t\tH4B - 760\t\tH65 - 800\n",
      "1t40_2ikh_clean_aligned.pdb\t\tNAP - 500\t\tLIT - 600\n",
      "2bsm_5m4h_clean_aligned.pdb\t\t7FX - 301\n"
     ]
    }
   ],
   "source": [
    "!cat output.txt"
   ]
  }
 ],
 "metadata": {
  "kernelspec": {
   "display_name": "Python 3.10",
   "language": "python",
   "name": "py310"
  },
  "language_info": {
   "codemirror_mode": {
    "name": "ipython",
    "version": 3
   },
   "file_extension": ".py",
   "mimetype": "text/x-python",
   "name": "python",
   "nbconvert_exporter": "python",
   "pygments_lexer": "ipython3",
   "version": "3.10.13"
  }
 },
 "nbformat": 4,
 "nbformat_minor": 2
}
